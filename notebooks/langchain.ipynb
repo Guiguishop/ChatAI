{
 "cells": [
  {
   "cell_type": "code",
   "execution_count": 4,
   "metadata": {},
   "outputs": [],
   "source": [
    "from langchain_openai import ChatOpenAI\n",
    "from langchain_core.prompts import PromptTemplate\n",
    "from langchain_core.output_parsers import StrOutputParser \n",
    "from dotenv import load_dotenv\n",
    "import os"
   ]
  },
  {
   "cell_type": "code",
   "execution_count": 5,
   "metadata": {},
   "outputs": [
    {
     "data": {
      "text/plain": [
       "True"
      ]
     },
     "execution_count": 5,
     "metadata": {},
     "output_type": "execute_result"
    }
   ],
   "source": [
    "load_dotenv() # Chargement de la clé api et du modèle utilisé"
   ]
  },
  {
   "cell_type": "markdown",
   "metadata": {},
   "source": [
    "# 1° Chaîne conversationnelle"
   ]
  },
  {
   "cell_type": "code",
   "execution_count": 6,
   "metadata": {},
   "outputs": [],
   "source": [
    "prompt_template = \"\"\"Ecris moi une blague à propos : {message_fr}\"\"\"\n",
    "prompt = PromptTemplate(template = prompt_template, input_variables= ['message_fr'])\n",
    "\n",
    "llm = ChatOpenAI(\n",
    "    openai_api_key = os.environ[\"OPENAI_API_KEY\"],\n",
    "    model = os.environ[\"OPENAI_MODEL\"],\n",
    "    temperature = 0.2\n",
    ")\n",
    "chain = prompt | llm |StrOutputParser()"
   ]
  },
  {
   "cell_type": "markdown",
   "metadata": {},
   "source": [
    "StrOutputParser utile si on veut faire du streaming, c'est-à-dire afficher token par token, afficher au fur et à mesure la réponse du modèle"
   ]
  },
  {
   "cell_type": "code",
   "execution_count": 7,
   "metadata": {},
   "outputs": [
    {
     "data": {
      "text/plain": [
       "\"Pourquoi les Français mangent-ils du pain et du fromage à tous les repas ?\\n\\nParce qu'ils sont des experts en brie-akfast !\""
      ]
     },
     "execution_count": 7,
     "metadata": {},
     "output_type": "execute_result"
    }
   ],
   "source": [
    "chain.invoke(\"des français\")\n",
    "# chain.stream()"
   ]
  }
 ],
 "metadata": {
  "kernelspec": {
   "display_name": "chatai-PR_5Li05-py3.9",
   "language": "python",
   "name": "python3"
  },
  "language_info": {
   "codemirror_mode": {
    "name": "ipython",
    "version": 3
   },
   "file_extension": ".py",
   "mimetype": "text/x-python",
   "name": "python",
   "nbconvert_exporter": "python",
   "pygments_lexer": "ipython3",
   "version": "3.9.21"
  }
 },
 "nbformat": 4,
 "nbformat_minor": 2
}
