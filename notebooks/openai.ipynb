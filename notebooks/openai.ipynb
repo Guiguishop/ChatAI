{
 "cells": [
  {
   "cell_type": "code",
   "execution_count": 9,
   "metadata": {},
   "outputs": [],
   "source": [
    "from dotenv import load_dotenv\n",
    "import os\n",
    "import openai"
   ]
  },
  {
   "cell_type": "code",
   "execution_count": 10,
   "metadata": {},
   "outputs": [
    {
     "data": {
      "text/plain": [
       "True"
      ]
     },
     "execution_count": 10,
     "metadata": {},
     "output_type": "execute_result"
    }
   ],
   "source": [
    "load_dotenv() # Cela charge les variables du fichier .env"
   ]
  },
  {
   "cell_type": "markdown",
   "metadata": {},
   "source": [
    "# 1° Requête API à chatgpt"
   ]
  },
  {
   "cell_type": "code",
   "execution_count": 11,
   "metadata": {},
   "outputs": [
    {
     "name": "stdout",
     "output_type": "stream",
     "text": [
      "Les métiers de data scientist, machine learning engineer et MLOps sont tous liés à la data, mais chacun a des responsabilités et des compétences spécifiques. Voici les différences notables entre ces métiers et les compétences primordiales requises pour chacun :\n",
      "\n",
      "1. Data Scientist :\n",
      "   - Un data scientist a pour mission d'analyser et de traiter des données pour en extraire des insights et des tendances.\n",
      "   - Compétences requises :\n",
      "      - Bonne compréhension des statistiques et de l'analyse de données\n",
      "      - Maîtrise des outils et des langages de programmation comme Python, R, SQL, etc.\n",
      "      - Capacité à gérer et manipuler de grandes quantités de données\n",
      "      - Compréhension des principes de machine learning\n",
      "      - Bonne communication pour expliquer les résultats aux non-techniciens\n",
      "\n",
      "2. Machine Learning Engineer :\n",
      "   - Un machine learning engineer se concentre sur le développement et le déploiement de modèles de machine learning afin de résoudre des problèmes complexes.\n",
      "   - Compétences requises :\n",
      "      - Solides compétences en programmation, en particulier en Python et en frameworks comme TensorFlow, scikit-learn, etc.\n",
      "      - Connaissance approfondie des algorithmes de machine learning et de deep learning\n",
      "      - Capacité à optimiser et à déployer des modèles de machine learning à grande échelle\n",
      "      - Compréhension des bonnes pratiques de développement logiciel\n",
      "\n",
      "3. MLOps (Machine Learning Operations) :\n",
      "   - MLOps est une discipline qui vise à faciliter le déploiement, la gestion et la surveillance des modèles de machine learning en production.\n",
      "   - Compétences requises :\n",
      "      - Connaissances approfondies en ingénierie logicielle et en DevOps\n",
      "      - Expérience dans le déploiement et la gestion de modèles de machine learning en production\n",
      "      - Compétences en automatisation des pipelines de données et des workflows de machine learning\n",
      "      - Compréhension des aspects de sécurité et de conformité liés au déploiement de modèles de machine learning\n",
      "\n",
      "En résumé, un data scientist se concentre sur l'analyse de données et l'extraction d'insights, un machine learning engineer sur le développement de modèles de machine learning, et un spécialiste MLOps sur le déploiement et la gestion des modèles en production. Chacun de ces métiers exige un ensemble unique de compétences techniques et pratiques pour réussir dans le domaine de la data.\n"
     ]
    }
   ],
   "source": [
    "openai.api_key = os.environ[\"OPENAI_API_KEY\"]\n",
    "client = openai.OpenAI()\n",
    "\n",
    "response = client.chat.completions.create(\n",
    "  model=os.environ[\"OPENAI_MODEL\"],\n",
    "  messages=[\n",
    "    {\"role\": \"developer\", \"content\": \"Tu es un expert dans le marché des emplois en rapport avec la data\"},\n",
    "    {\"role\": \"user\", \"content\": \"Quelles sont les différences notables entre data scientist, machine learning engineer et MLOps, quelles compétences primordiales sont requises pour chaque métier ?\"}\n",
    "  ]\n",
    ")\n",
    "\n",
    "print(response.choices[0].message.content)\n"
   ]
  }
 ],
 "metadata": {
  "kernelspec": {
   "display_name": "chatai-PR_5Li05-py3.9",
   "language": "python",
   "name": "python3"
  },
  "language_info": {
   "codemirror_mode": {
    "name": "ipython",
    "version": 3
   },
   "file_extension": ".py",
   "mimetype": "text/x-python",
   "name": "python",
   "nbconvert_exporter": "python",
   "pygments_lexer": "ipython3",
   "version": "3.9.21"
  }
 },
 "nbformat": 4,
 "nbformat_minor": 2
}
