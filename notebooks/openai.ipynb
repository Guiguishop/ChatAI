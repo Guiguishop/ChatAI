{
 "cells": [
  {
   "cell_type": "code",
   "execution_count": 34,
   "metadata": {},
   "outputs": [],
   "source": [
    "from dotenv import load_dotenv\n",
    "import os\n",
    "import openai"
   ]
  },
  {
   "cell_type": "code",
   "execution_count": 35,
   "metadata": {},
   "outputs": [
    {
     "data": {
      "text/plain": [
       "True"
      ]
     },
     "execution_count": 35,
     "metadata": {},
     "output_type": "execute_result"
    }
   ],
   "source": [
    "load_dotenv() # Cela charge les variables du fichier .env"
   ]
  },
  {
   "cell_type": "markdown",
   "metadata": {},
   "source": [
    "# 1° Requête API à chatgpt"
   ]
  },
  {
   "cell_type": "code",
   "execution_count": 36,
   "metadata": {},
   "outputs": [
    {
     "name": "stdout",
     "output_type": "stream",
     "text": [
      "Les termes \"data scientist\", \"machine learning engineer\" et \"MLOps\" sont tous des métiers liés à l'analyse de données et à l'apprentissage automatique, mais ils ont des responsabilités et des compétences spécifiques qui les différencient. Voici un aperçu des différences notables entre ces trois rôles, ainsi que les compétences principales requises pour chacun :\n",
      "\n",
      "1. **Data Scientist** :\n",
      "\n",
      "   - Un data scientist est un professionnel qui collecte, analyse et interprète de grandes quantités de données afin d'identifier des tendances, des modèles et des insights utiles pour les entreprises.\n",
      "   \n",
      "   - Compétences requises : maîtrise des techniques d'analyse de données, statistiques et data mining, maîtrise des outils de visualisation des données, compétences en programmation (Python, R, etc.), compréhension des bases de données et des systèmes de gestion de données.\n",
      "\n",
      "2. **Machine Learning Engineer** :\n",
      "\n",
      "   - Un machine learning engineer est un ingénieur spécialisé dans le développement et le déploiement de modèles d'apprentissage automatique afin de résoudre des problèmes complexes et de prendre des décisions prédictives.\n",
      "   \n",
      "   - Compétences requises : solides compétences en programmation et en développement logiciel, maîtrise des techniques d'apprentissage automatique et de modélisation prédictive, expérience dans le déploiement et l'optimisation de modèles d'apprentissage automatique, familiarité avec les frameworks d'apprentissage automatique (TensorFlow, PyTorch, etc.).\n",
      "\n",
      "3. **MLOps** :\n",
      "\n",
      "   - MLOps est une pratique visant à intégrer le développement, l'entraînement et le déploiement des modèles d'apprentissage automatique dans des pipelines de données et des workflows de développement logiciel.\n",
      "   \n",
      "   - Compétences requises : connaissance approfondie des processus de développement logiciel et des pipelines de données, expérience en automatisation des déploiements de modèles d'apprentissage automatique, maîtrise des outils de gestion des modèles (Git, Docker, Kubernetes, etc.), compétences en ingénierie des systèmes et en gestion des infrastructures cloud.\n",
      "\n",
      "En résumé, un data scientist se concentre sur l'analyse des données, un machine learning engineer sur le développement de modèles d'apprentissage automatique et un spécialiste MLOps sur l'optimisation et le déploiement de ces modèles. Chacun de ces rôles nécessite un ensemble spécifique de compétences techniques et pratiques pour réussir dans le domaine de la data.\n"
     ]
    }
   ],
   "source": [
    "openai.api_key = os.environ[\"OPENAI_API_KEY\"]\n",
    "client = openai.OpenAI()\n",
    "\n",
    "response = client.chat.completions.create(\n",
    "  model=os.environ[\"MODEL_ID\"],\n",
    "  messages=[\n",
    "    {\"role\": \"developer\", \"content\": \"Tu es un expert dans le marché des emplois en rapport avec la data\"},\n",
    "    {\"role\": \"user\", \"content\": \"Quelles sont les différences notables entre data scientist, machine learning engineer et MLOps, quelles compétences primordiales sont requises pour chaque métier ?\"}\n",
    "  ]\n",
    ")\n",
    "\n",
    "print(response.choices[0].message.content)\n"
   ]
  }
 ],
 "metadata": {
  "kernelspec": {
   "display_name": "chatai",
   "language": "python",
   "name": "python3"
  },
  "language_info": {
   "codemirror_mode": {
    "name": "ipython",
    "version": 3
   },
   "file_extension": ".py",
   "mimetype": "text/x-python",
   "name": "python",
   "nbconvert_exporter": "python",
   "pygments_lexer": "ipython3",
   "version": "3.9.18"
  }
 },
 "nbformat": 4,
 "nbformat_minor": 2
}
